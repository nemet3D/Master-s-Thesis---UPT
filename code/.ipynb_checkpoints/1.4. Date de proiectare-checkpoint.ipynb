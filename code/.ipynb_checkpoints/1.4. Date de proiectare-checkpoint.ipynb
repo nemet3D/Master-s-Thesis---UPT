{
 "cells": [
  {
   "cell_type": "markdown",
   "metadata": {},
   "source": [
    "## 1.4. Date de proiectare\n",
    "\n",
    "Se stabilesc datele de proiectare specifice pentru proiectarea turbinei.\n",
    "\n",
    "Debitul $Q=0.07m^3/s$.\n",
    "\n",
    "Caderea $H=24m$.\n",
    "\n",
    "Turatia $n=1500rpm$.\n",
    "\n",
    "Diametrul exterior $D_{ext}=0.220m$.\n",
    "\n",
    "Conform [4] diametrul interior este stabilit la $D_{int}=0.188m$."
   ]
  },
  {
   "cell_type": "code",
   "execution_count": 18,
   "metadata": {},
   "outputs": [],
   "source": [
    "#Import libraries\n",
    "import math"
   ]
  },
  {
   "cell_type": "code",
   "execution_count": 19,
   "metadata": {},
   "outputs": [],
   "source": [
    "#Enter the variables values\n",
    "Q = 0.07\n",
    "H = 24\n",
    "n = 1500\n",
    "D_ext = 0.220\n",
    "D_int = 0.188\n",
    "g = 9.81"
   ]
  },
  {
   "cell_type": "markdown",
   "metadata": {},
   "source": [
    "Se calculeaza diametrul mediu pentru profilele turbinei:\n",
    "\n",
    "$$\n",
    "D_{med} = \\frac{D_{ext} + D_{int}}{2}\n",
    "$$"
   ]
  },
  {
   "cell_type": "code",
   "execution_count": 20,
   "metadata": {},
   "outputs": [
    {
     "name": "stdout",
     "output_type": "stream",
     "text": [
      "Diametrul mediu D_med este:0.204m\n"
     ]
    }
   ],
   "source": [
    "D_med = float(\"{0:.3f}\".format((D_ext + D_int) / 2))\n",
    "print(\"Diametrul mediu D_med este:\" + str(D_med) + \"m\")"
   ]
  },
  {
   "cell_type": "markdown",
   "metadata": {},
   "source": [
    "Se calculeaza viteza tangentiala U:\n",
    "\n",
    "$$\n",
    "U = \\frac{\\Pi n}{30} \\frac{D_{med}}{2}\n",
    "$$"
   ]
  },
  {
   "cell_type": "code",
   "execution_count": 21,
   "metadata": {
    "scrolled": true
   },
   "outputs": [
    {
     "name": "stdout",
     "output_type": "stream",
     "text": [
      "Viteza tangentiala U este: 16.022m/s\n"
     ]
    }
   ],
   "source": [
    "U = float(\"{0:.3f}\".format((math.pi * n * D_med) / (30 * 2)))\n",
    "print(\"Viteza tangentiala U este: \" + str(U) + \"m/s\")"
   ]
  },
  {
   "cell_type": "markdown",
   "metadata": {},
   "source": [
    "Se calculeaza viteza axiala V_a care se mentine pe toate cele trei portiuni considerate ale\n",
    "turbinei:\n",
    "\n",
    "$$\n",
    "V_a = \\frac{4Q}{\\Pi(D_{ext}^2 - D_{int}^2)}\n",
    "$$"
   ]
  },
  {
   "cell_type": "code",
   "execution_count": 24,
   "metadata": {},
   "outputs": [
    {
     "name": "stdout",
     "output_type": "stream",
     "text": [
      "Viteza axiala V_a este: 6.826m/s\n"
     ]
    }
   ],
   "source": [
    "V_a = float(\"{0:.3f}\".format((4 * Q) / (math.pi * (D_ext**2 - D_int**2))))\n",
    "print(\"Viteza axiala V_a este: \" + str(V_a) + \"m/s\")"
   ]
  },
  {
   "cell_type": "markdown",
   "metadata": {},
   "source": [
    "Conform ecuatiei fundamentale a turbomasinilor (ecuatia lui Euler) avem viteza absoluta:\n",
    "\n",
    "$$\n",
    "V_u = \\frac{30 g H 2}{\\Pi n D_{med}}\n",
    "$$"
   ]
  },
  {
   "cell_type": "code",
   "execution_count": 25,
   "metadata": {},
   "outputs": [
    {
     "name": "stdout",
     "output_type": "stream",
     "text": [
      "Viteza absolut V_u este: 14.695m/s\n"
     ]
    }
   ],
   "source": [
    "V_u = float(\"{0:.3f}\".format((2 * 30 * g * H) / (math.pi * n * D_med)))\n",
    "print(\"Viteza absolut V_u este: \" + str(V_u) + \"m/s\")"
   ]
  },
  {
   "cell_type": "markdown",
   "metadata": {},
   "source": [
    "Unghiul alpha dintre directia tangential U si viteza absoluta Vu este:"
   ]
  },
  {
   "cell_type": "code",
   "execution_count": null,
   "metadata": {},
   "outputs": [],
   "source": []
  },
  {
   "cell_type": "code",
   "execution_count": null,
   "metadata": {},
   "outputs": [],
   "source": []
  },
  {
   "cell_type": "code",
   "execution_count": null,
   "metadata": {},
   "outputs": [],
   "source": []
  }
 ],
 "metadata": {
  "kernelspec": {
   "display_name": "Python 3",
   "language": "python",
   "name": "python3"
  },
  "language_info": {
   "codemirror_mode": {
    "name": "ipython",
    "version": 3
   },
   "file_extension": ".py",
   "mimetype": "text/x-python",
   "name": "python",
   "nbconvert_exporter": "python",
   "pygments_lexer": "ipython3",
   "version": "3.7.0"
  }
 },
 "nbformat": 4,
 "nbformat_minor": 2
}
