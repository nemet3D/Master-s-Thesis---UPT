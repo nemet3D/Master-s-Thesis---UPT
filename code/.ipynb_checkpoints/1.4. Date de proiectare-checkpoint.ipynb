{
 "cells": [
  {
   "cell_type": "markdown",
   "metadata": {},
   "source": [
    "## 1.4. Date de proiectare\n",
    "\n",
    "Se stabilesc datele de proiectare specifice pentru proiectarea turbinei.\n",
    "\n",
    "Debitul $Q=0.07m^3/s$.\n",
    "\n",
    "Caderea $H=24m$.\n",
    "\n",
    "Turatia $n=1500rpm$.\n",
    "\n",
    "Diametrul exterior $D_{ext}=0.220m$.\n",
    "\n",
    "Conform [4] diametrul interior este stabilit la $D_{int}=0.188m$."
   ]
  },
  {
   "cell_type": "code",
   "execution_count": 1,
   "metadata": {},
   "outputs": [],
   "source": [
    "#Import libraries\n",
    "import numpy"
   ]
  },
  {
   "cell_type": "code",
   "execution_count": 2,
   "metadata": {},
   "outputs": [],
   "source": [
    "#Enter the variables values\n",
    "Q = 0.07\n",
    "H = 24\n",
    "n = 1500\n",
    "D_p = 0.220\n",
    "D_b = 0.188\n",
    "g = 9.81"
   ]
  },
  {
   "cell_type": "markdown",
   "metadata": {},
   "source": [
    "Se calculeaza raza medie pentru profilele turbinei:"
   ]
  },
  {
   "cell_type": "code",
   "execution_count": 3,
   "metadata": {},
   "outputs": [
    {
     "name": "stdout",
     "output_type": "stream",
     "text": [
      "Raza medir R_m este:0.102m\n"
     ]
    }
   ],
   "source": [
    "R_m = float(\"{0:.3f}\".format(numpy.sqrt(((D_p / 2)**2 + (D_b / 2)**2) / 2)))\n",
    "print(\"Raza medir R_m este:\" + str(R_m) + \"m\")"
   ]
  },
  {
   "cell_type": "markdown",
   "metadata": {},
   "source": [
    "Se calculeaza viteza axiala V_a care se mentine pe toate cele trei portiuni considerate ale\n",
    "turbinei:\n",
    "\n",
    "$$\n",
    "V_a = \\frac{Q}{\\Pi(R_p^2 - R_b^2)}\n",
    "$$"
   ]
  },
  {
   "cell_type": "code",
   "execution_count": 4,
   "metadata": {},
   "outputs": [
    {
     "name": "stdout",
     "output_type": "stream",
     "text": [
      "Viteza axiala V_a este: 6.8m/s\n"
     ]
    }
   ],
   "source": [
    "V_a = float(\"{0:.1f}\".format((4 * Q) / (numpy.pi * (D_p**2 - D_b**2))))\n",
    "print(\"Viteza axiala V_a este: \" + str(V_a) + \"m/s\")"
   ]
  },
  {
   "cell_type": "markdown",
   "metadata": {},
   "source": [
    "Se calculeaza viteza tangentiala U:\n",
    "\n",
    "$$\n",
    "U = \\frac{\\Pi n}{30} R_m\n",
    "$$"
   ]
  },
  {
   "cell_type": "code",
   "execution_count": 5,
   "metadata": {
    "scrolled": false
   },
   "outputs": [
    {
     "name": "stdout",
     "output_type": "stream",
     "text": [
      "Viteza tangentiala U este: 16.0m/s\n"
     ]
    }
   ],
   "source": [
    "U = float(\"{0:.1f}\".format((numpy.pi * n * R_m) / 30))\n",
    "print(\"Viteza tangentiala U este: \" + str(U) + \"m/s\")"
   ]
  },
  {
   "cell_type": "markdown",
   "metadata": {},
   "source": [
    "Conform ecuatiei fundamentale a turbomasinilor (ecuatia lui Euler) avem viteza absoluta:\n",
    "\n",
    "$$\n",
    "V_u = \\frac{30 g H}{\\Pi n R_m}\n",
    "$$"
   ]
  },
  {
   "cell_type": "code",
   "execution_count": 6,
   "metadata": {},
   "outputs": [
    {
     "name": "stdout",
     "output_type": "stream",
     "text": [
      "Viteza absolut V_u este: 14.7m/s\n"
     ]
    }
   ],
   "source": [
    "V_u = float(\"{0:.1f}\".format((30 * g * H) / (numpy.pi * n * R_m)))\n",
    "print(\"Viteza absolut V_u este: \" + str(V_u) + \"m/s\")"
   ]
  },
  {
   "cell_type": "markdown",
   "metadata": {},
   "source": [
    "Test"
   ]
  },
  {
   "cell_type": "code",
   "execution_count": null,
   "metadata": {},
   "outputs": [],
   "source": []
  }
 ],
 "metadata": {
  "kernelspec": {
   "display_name": "Python 3",
   "language": "python",
   "name": "python3"
  },
  "language_info": {
   "codemirror_mode": {
    "name": "ipython",
    "version": 3
   },
   "file_extension": ".py",
   "mimetype": "text/x-python",
   "name": "python",
   "nbconvert_exporter": "python",
   "pygments_lexer": "ipython3",
   "version": "3.7.1"
  }
 },
 "nbformat": 4,
 "nbformat_minor": 2
}
